{
 "cells": [
  {
   "cell_type": "markdown",
   "id": "87cce734-735c-4260-ae2f-1534ca03093e",
   "metadata": {},
   "source": [
    "import clr, sys, os\n",
    "# print(help(clr))\n",
    "dynPyDir = r\"C:\\Program Files\\Autodesk\\Revit 2020\\AddIns\\DynamoForRevit\"#\"\\\\hcmcfcfs01\\databim$\\BimESC\\00-BIM STANDARD\\PYTHON\\dotNet\\references\"\n",
    "sys.path.append(dynPyDir)\n",
    "dynPyDir2 = r\"C:\\Program Files\\Autodesk\\Revit 2020\\AddIns\\DynamoForRevit\\Revit\"#\"\\\\hcmcfcfs01\\databim$\\BimESC\\00-BIM STANDARD\\PYTHON\\dotNet\\references\"\n",
    "sys.path.append(dynPyDir2)\n",
    "clr.AddReference('RevitNodes')\n",
    "import Revit\n",
    "clr.ImportExtensions(Revit.Elements)\n",
    "clr.ImportExtensions(Revit.GeometryConversion)\n",
    "\n",
    "clr.AddReference('ProtoGeometry')\n",
    "import Autodesk\n",
    "import Autodesk.DesignScript\n",
    "import Autodesk.DesignScript.Geometry\n",
    "from Autodesk.DesignScript.Geometry import *\n",
    "path1 = os.path.abspath(Autodesk.DesignScript.__file__)\n",
    "path2 = os.path.dirname(Autodesk.DesignScript.Geometry.__file__)\n",
    "\n",
    "# print (clr.References)\n",
    "\"\"\"\n",
    "(<mscorlib, Version=4.0.0.0, Culture=neutral, PublicKeyToken=b77a5c561934e089>,\n",
    "<System, Version=4.0.0.0, Culture=neutral, PublicKeyToken=b77a5c561934e089>,\n",
    "<IronPython.SQLite, Version=2.7.0.40, Culture=neutral, PublicKeyToken=7f709c5b713576e1>,\n",
    "<IronPython.Wpf, Version=2.7.0.40, Culture=neutral, PublicKeyToken=7f709c5b713576e1>,\n",
    "<RevitNodes, Version=2.1.0.7733, Culture=neutral, PublicKeyToken=null>,\n",
    "<ProtoGeometry, Version=2.1.0.23964, Culture=neutral, PublicKeyToken=null>)\n",
    "\"\"\"\n",
    "# print (dir(clr.References[4].Autodesk.DesignScript.Geometry))\n",
    "\"\"\"\n",
    "['Application', 'Arc', 'BoundingBox', 'Circle', 'CoEdge', 'Cone', 'CoordinateSystem', 'Core', 'Cuboid', 'Curve', 'Cylinder', \n",
    "'DesignScriptEntity', 'Edge', 'Ellipse', 'EllipseArc', 'Face', 'Geometry', 'GeometryExtension', 'Helix', 'HostFactory', 'IProtoGeometryConfiguration', 'IndexGroup', 'Line', 'Loop', 'Mesh', 'NurbsCurve', 'NurbsSurface', 'Plane', 'Point', 'PolyCurve', \n",
    "'PolySurface', 'Polygon', 'ProtoGeometryConfiguration', 'Rectangle', 'Solid', 'Sphere', 'Surface', 'TSpline', 'Topology', 'UV', 'Vector', 'Vertex']\n",
    "\"\"\"\n",
    "# print (dir(clr.References[4].Autodesk.DesignScript.Geometry.Solid))\n",
    "\"\"\"\n",
    "['Approximate', 'Area', 'BoundingBox', 'ByJoinedSurfaces', 'ByLoft', 'ByRevolve', 'BySweep', 'BySweep2Rails', 'ByUnion', 'Centroid', 'Chamfer', 'CheckArgsForAsmExtents', 'ClosestPointTo', 'ComputeHashCode', 'ContextCoordinateSystem', 'DeserializeFromSAB', 'Difference', 'DifferenceAll', 'Dispose', 'DisposeDisplayable', 'DistanceTo', 'DoesIntersect', 'Edges', 'Equals', 'Explode', 'ExportToSAT', 'Faces', 'Fillet', 'FromNativePointer', 'FromObject', 'FromSolidDef', 'GetHashCode', 'GetType', 'ImportFromSAT', 'Intersect', 'IntersectAll', 'IsAlmostEqualTo', 'MemberwiseClone', 'Mirror', 'ProjectInputOnto', 'ReferenceEquals', \n",
    "'Rotate', 'Scale', 'Scale1D', 'Scale2D', 'SerializeAsSAB', 'Split', 'Tags', 'Tessellate', 'ThinShell', 'ToNativePointer', 'ToSolidDef', 'ToString', 'Transform', 'Translate', 'Trim', 'Union', 'UnionAll', 'UpdateDisplay', 'Vertices', 'Volume', '__class__', '__delattr__', '__doc__', '__enter__', '__eq__', '__exit__', '__format__', '__getattribute__', '__hash__', '__init__', '__ne__', '__new__', '__reduce__', '__reduce_ex__', '__repr__', '__setattr__', '__sizeof__', '__str__', '__subclasshook__', 'mConstructor', 'scaleFactor']\n",
    "\"\"\"\n",
    "# print(help(Solid))\n"
   ]
  },
  {
   "cell_type": "code",
   "execution_count": null,
   "id": "fbce630e-808f-410b-a08b-504191462858",
   "metadata": {},
   "outputs": [],
   "source": []
  },
  {
   "cell_type": "markdown",
   "id": "547b7442-d7b3-4bbb-b7d2-1b16f851924b",
   "metadata": {},
   "source": []
  },
  {
   "cell_type": "code",
   "execution_count": null,
   "id": "0ef53e92-23ac-401c-ae95-3973a03cff17",
   "metadata": {},
   "outputs": [],
   "source": []
  }
 ],
 "metadata": {
  "kernelspec": {
   "display_name": "Python 3",
   "language": "python",
   "name": "python3"
  },
  "language_info": {
   "codemirror_mode": {
    "name": "ipython",
    "version": 3
   },
   "file_extension": ".py",
   "mimetype": "text/x-python",
   "name": "python",
   "nbconvert_exporter": "python",
   "pygments_lexer": "ipython3",
   "version": "3.9.1"
  }
 },
 "nbformat": 4,
 "nbformat_minor": 5
}
